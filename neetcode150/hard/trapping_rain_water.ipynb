{
 "cells": [
  {
   "cell_type": "markdown",
   "id": "3473601d",
   "metadata": {},
   "source": [
    "# Trapping Rain Water"
   ]
  },
  {
   "cell_type": "markdown",
   "id": "ce65f898",
   "metadata": {},
   "source": [
    "https://neetcode.io/problems/trapping-rain-water?list=neetcode150\n",
    "\n",
    "https://leetcode.com/problems/trapping-rain-water/description/"
   ]
  },
  {
   "cell_type": "markdown",
   "id": "161167d2",
   "metadata": {},
   "source": [
    "You are given an array of non-negative integers height which represent an elevation map. Each value height[i] represents the height of a bar, which has a width of 1.\n",
    "\n",
    "Return the maximum area of water that can be trapped between the bars.\n",
    "\n",
    "**Example 1:**\n",
    "Input: height = [0,2,0,3,1,0,1,3,2,1]\n",
    "Output: 9\n",
    "\n",
    "**Constraints:**\n",
    "- 1 <= height.length <= 1000\n",
    "- 0 <= height[i] <= 1000"
   ]
  },
  {
   "cell_type": "code",
   "execution_count": 1,
   "id": "2d4e8e55",
   "metadata": {},
   "outputs": [],
   "source": [
    "from typing import List\n",
    "class Solution:\n",
    "    def trap(self, height: List[int]) -> int:\n",
    "        left, left_max_h = 0, 0\n",
    "        right, right_max_h = len(height) - 1, 0\n",
    "        res = 0\n",
    "\n",
    "        while left < right:\n",
    "            if height[left] < height[right]:\n",
    "                if height[left] >= left_max_h:\n",
    "                    left_max_h = height[left]\n",
    "                else:\n",
    "                    res += left_max_h - height[left]\n",
    "                left += 1\n",
    "            else:\n",
    "                if height[right] >= right_max_h:\n",
    "                    right_max_h = height[right]\n",
    "                else:\n",
    "                    res += right_max_h - height[right]\n",
    "                right -= 1\n",
    "        return res"
   ]
  },
  {
   "cell_type": "code",
   "execution_count": 3,
   "id": "0e650fe3",
   "metadata": {},
   "outputs": [
    {
     "name": "stdout",
     "output_type": "stream",
     "text": [
      "9\n"
     ]
    }
   ],
   "source": [
    "s = Solution()\n",
    "\n",
    "height = [0,2,0,3,1,0,1,3,2,1]\n",
    "print(s.trap(height)) # 9"
   ]
  },
  {
   "cell_type": "code",
   "execution_count": null,
   "id": "58e53315",
   "metadata": {},
   "outputs": [],
   "source": []
  }
 ],
 "metadata": {
  "kernelspec": {
   "display_name": "Python 3",
   "language": "python",
   "name": "python3"
  },
  "language_info": {
   "codemirror_mode": {
    "name": "ipython",
    "version": 3
   },
   "file_extension": ".py",
   "mimetype": "text/x-python",
   "name": "python",
   "nbconvert_exporter": "python",
   "pygments_lexer": "ipython3",
   "version": "3.12.10"
  }
 },
 "nbformat": 4,
 "nbformat_minor": 5
}
