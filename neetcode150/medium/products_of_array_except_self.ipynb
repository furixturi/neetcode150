{
 "cells": [
  {
   "cell_type": "markdown",
   "id": "5c5bfbb6",
   "metadata": {},
   "source": [
    "# Products of Array Except Self"
   ]
  },
  {
   "cell_type": "markdown",
   "id": "f30e8baa",
   "metadata": {},
   "source": [
    "https://neetcode.io/problems/products-of-array-discluding-self?list=neetcode150"
   ]
  },
  {
   "cell_type": "markdown",
   "id": "736d94bf",
   "metadata": {},
   "source": [
    "Given an integer array `nums`, return an array `output` where `output[i]` is the product of all the elements of nums except nums[i].\n",
    "\n",
    "Each product is guaranteed to fit in a 32-bit integer.\n",
    "\n",
    "Follow-up: Could you solve it in O(n) time without using the division operation?\n",
    "\n",
    "Example 1:\n",
    "\n",
    "```\n",
    "Input: nums = [1,2,4,6]\n",
    "Output: [48,24,12,8]\n",
    "```\n",
    "\n",
    "Example 2:\n",
    "\n",
    "```\n",
    "Input: nums = [-1,0,1,2,3]\n",
    "Output: [0,-6,0,0,0]\n",
    "```\n",
    "**Constraints:**\n",
    "- 2 <= nums.length <= 1000\n",
    "- -20 <= nums[i] <= 20"
   ]
  },
  {
   "cell_type": "code",
   "execution_count": null,
   "id": "b51a049a",
   "metadata": {},
   "outputs": [],
   "source": [
    "# !!! Using division cannot work with 0\n",
    "from typing import List\n",
    "\n",
    "class Solution:\n",
    "    def productExceptSelf(self, nums: List[int]) -> List[int]:\n",
    "        product_of_all = 1\n",
    "        for n in nums:\n",
    "            product_of_all *= n\n",
    "        return [product_of_all // n for n in nums]"
   ]
  },
  {
   "cell_type": "code",
   "execution_count": 23,
   "id": "9a8b3eb5",
   "metadata": {},
   "outputs": [],
   "source": [
    "# Using only product, caluclate prefix product and suffix product, then exclusive product \n",
    "from typing import List\n",
    "class Solution:\n",
    "    def productExceptSelf(self, nums: List[int]) -> List[int]:\n",
    "        prefix_prod = [1] * len(nums)\n",
    "        for i in range(len(nums)):\n",
    "            prev = 1 if i == 0 else nums[i-1]\n",
    "            prev_prod = 1 if i == 0 else prefix_prod[i-1]\n",
    "            prefix_prod[i] = prev * prev_prod\n",
    "\n",
    "        suffix_prod = [1] * len(nums)\n",
    "        for j in range(len(nums)-1, -1, -1):\n",
    "            nxt = 1 if j == len(nums)-1 else nums[j+1]\n",
    "            nxt_prod = 1 if j == len(nums)-1 else suffix_prod[j+1]\n",
    "            suffix_prod[j] = nxt * nxt_prod\n",
    "        \n",
    "        return [prefix_prod[i] * suffix_prod[i] for i in range(len(nums))]"
   ]
  },
  {
   "cell_type": "code",
   "execution_count": 24,
   "id": "5c7e6d81",
   "metadata": {},
   "outputs": [
    {
     "name": "stdout",
     "output_type": "stream",
     "text": [
      "[48, 24, 12, 8]\n",
      "[0, -6, 0, 0, 0]\n"
     ]
    }
   ],
   "source": [
    "s = Solution()\n",
    "input = [1,2,4,6]\n",
    "print(s.productExceptSelf(input))\n",
    "\n",
    "input = [-1,0,1,2,3]\n",
    "print(s.productExceptSelf(input))"
   ]
  },
  {
   "cell_type": "code",
   "execution_count": null,
   "id": "03475cc1",
   "metadata": {},
   "outputs": [],
   "source": []
  }
 ],
 "metadata": {
  "kernelspec": {
   "display_name": ".venv",
   "language": "python",
   "name": "python3"
  },
  "language_info": {
   "codemirror_mode": {
    "name": "ipython",
    "version": 3
   },
   "file_extension": ".py",
   "mimetype": "text/x-python",
   "name": "python",
   "nbconvert_exporter": "python",
   "pygments_lexer": "ipython3",
   "version": "3.12.10"
  }
 },
 "nbformat": 4,
 "nbformat_minor": 5
}
