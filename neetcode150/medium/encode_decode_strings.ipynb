{
 "cells": [
  {
   "cell_type": "markdown",
   "id": "863e1da1",
   "metadata": {},
   "source": [
    "# Encode and Decode Strings"
   ]
  },
  {
   "cell_type": "markdown",
   "id": "68a8de94",
   "metadata": {},
   "source": [
    "https://neetcode.io/problems/string-encode-and-decode?list=neetcode150"
   ]
  },
  {
   "cell_type": "markdown",
   "id": "d904adf6",
   "metadata": {},
   "source": [
    "Design an algorithm to encode a list of strings to a single string. The encoded string is then decoded back to the original list of strings.\n",
    "\n",
    "Please implement encode and decode\n",
    "\n",
    "Example 1:\n",
    "```\n",
    "Input: [\"neet\",\"code\",\"love\",\"you\"]\n",
    "\n",
    "Output:[\"neet\",\"code\",\"love\",\"you\"]\n",
    "```\n",
    "\n",
    "Example 2:\n",
    "```\n",
    "Input: [\"we\",\"say\",\":\",\"yes\"]\n",
    "\n",
    "Output: [\"we\",\"say\",\":\",\"yes\"]\n",
    "```\n",
    "\n",
    "**Constraints:**\n",
    "- 0 <= strs.length < 100\n",
    "- 0 <= strs[i].length < 200\n",
    "- strs[i] contains only UTF-8 characters.\n",
    "\n",
    "**Time & Space Complexity**\n",
    "You should aim for a solution with O(m) time for each encode() and decode() call and O(m+n) space, where m is the sum of lengths of all the strings and n is the number of strings."
   ]
  },
  {
   "cell_type": "code",
   "execution_count": null,
   "id": "aec6dc66",
   "metadata": {},
   "outputs": [],
   "source": [
    "from typing import List\n",
    "\n",
    "class Solution:\n",
    "    def encode(self, strs: List[str]) -> str:\n",
    "        res = ''\n",
    "        for s in strs:\n",
    "            res += f'{str(len(s))}#{s}' # we need the separator to cover string length >= 10\n",
    "        return res\n",
    "\n",
    "    def decode(self, s: str) -> List[str]:\n",
    "        res = []\n",
    "        i = 0\n",
    "        while i < len(s):\n",
    "            sep_pos = s.find('#', i) # find the next separator position, before that pos is the end of this string's length.\n",
    "            length = int(s[i:sep_pos]) # i is at the beginning of current string's length number, sep_pos\n",
    "            start = sep_pos + 1 # \n",
    "            end = start + length\n",
    "            res.append(s[start:end])\n",
    "            i = end\n",
    "        return res"
   ]
  },
  {
   "cell_type": "code",
   "execution_count": 26,
   "id": "6c55c18d",
   "metadata": {},
   "outputs": [
    {
     "name": "stdout",
     "output_type": "stream",
     "text": [
      "Encoded: 4#neet4#code4#love3#you\n",
      "Decoded: ['neet', 'code', 'love', 'you']\n",
      "Encoded: 2#we3#say1#:3#yes\n",
      "Decoded: ['we', 'say', ':', 'yes']\n",
      "Encoded: 20#wewewewewewewewewewe21#saysaysaysaysaysaysay1#:3#yes\n",
      "Decoded: ['wewewewewewewewewewe', 'saysaysaysaysaysaysay', ':', 'yes']\n"
     ]
    }
   ],
   "source": [
    "s = Solution()\n",
    "input = [\"neet\",\"code\",\"love\",\"you\"]\n",
    "encoded = s.encode(input)\n",
    "print(f'Encoded: {encoded}')\n",
    "decoded = s.decode(encoded)\n",
    "print(f'Decoded: {decoded}')\n",
    "\n",
    "input = [\"we\",\"say\",\":\",\"yes\"]\n",
    "encoded = s.encode(input)\n",
    "print(f'Encoded: {encoded}')\n",
    "decoded = s.decode(encoded)\n",
    "print(f'Decoded: {decoded}')\n",
    "\n",
    "# long strings\n",
    "input = [\"wewewewewewewewewewe\",\"saysaysaysaysaysaysay\",\":\",\"yes\"]\n",
    "encoded = s.encode(input)\n",
    "print(f'Encoded: {encoded}')\n",
    "decoded = s.decode(encoded)\n",
    "print(f'Decoded: {decoded}')"
   ]
  },
  {
   "cell_type": "code",
   "execution_count": 6,
   "id": "4f17f4ce",
   "metadata": {},
   "outputs": [
    {
     "data": {
      "text/plain": [
       "'1#I'"
      ]
     },
     "execution_count": 6,
     "metadata": {},
     "output_type": "execute_result"
    }
   ],
   "source": [
    "s.encode(['I'])"
   ]
  },
  {
   "cell_type": "code",
   "execution_count": null,
   "id": "375b66a7",
   "metadata": {},
   "outputs": [],
   "source": []
  }
 ],
 "metadata": {
  "kernelspec": {
   "display_name": ".venv",
   "language": "python",
   "name": "python3"
  },
  "language_info": {
   "codemirror_mode": {
    "name": "ipython",
    "version": 3
   },
   "file_extension": ".py",
   "mimetype": "text/x-python",
   "name": "python",
   "nbconvert_exporter": "python",
   "pygments_lexer": "ipython3",
   "version": "3.12.10"
  }
 },
 "nbformat": 4,
 "nbformat_minor": 5
}
