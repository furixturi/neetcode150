{
 "cells": [
  {
   "cell_type": "markdown",
   "id": "612f33da",
   "metadata": {},
   "source": [
    "# Longest Consecutive Sequence"
   ]
  },
  {
   "cell_type": "markdown",
   "id": "c30d6bf6",
   "metadata": {},
   "source": [
    "https://neetcode.io/problems/longest-consecutive-sequence?list=neetcode150"
   ]
  },
  {
   "cell_type": "markdown",
   "id": "fa35d08c",
   "metadata": {},
   "source": [
    "Given an array of integers nums, return the length of the longest consecutive sequence of elements that can be formed.\n",
    "\n",
    "A consecutive sequence is a sequence of elements in which each element is exactly 1 greater than the previous element. The elements do not have to be consecutive in the original array.\n",
    "\n",
    "You must write an algorithm that runs in O(n) time.\n",
    "\n",
    "Example 1:\n",
    "```\n",
    "Input: nums = [2,20,4,10,3,4,5]\n",
    "Output: 4\n",
    "```\n",
    "Explanation: The longest consecutive sequence is [2, 3, 4, 5].\n",
    "\n",
    "Example 2:\n",
    "```\n",
    "Input: nums = [0,3,2,5,4,6,1,1]\n",
    "Output: 7\n",
    "```\n",
    "\n",
    "**Constraints**:\n",
    "- 0 <= nums.length <= 1000\n",
    "- -10^9 <= nums[i] <= 10^9\n",
    "\n",
    "**Complexity:**\n",
    "You should aim for a solution as good or better than O(n) time and O(n) space, where n is the size of the input array."
   ]
  },
  {
   "cell_type": "code",
   "execution_count": 1,
   "id": "11154a8a",
   "metadata": {},
   "outputs": [],
   "source": [
    "from typing import List\n",
    "class Solution:\n",
    "    def longestConsecutive(self, nums: List[int]):\n",
    "        s = set(nums)\n",
    "        longest = 0\n",
    "        for n in s:\n",
    "            if n-1 not in s:\n",
    "                num = n\n",
    "                length = 1\n",
    "                while num+1 in s:\n",
    "                    length += 1\n",
    "                    num += 1\n",
    "                longest = max(longest, length)\n",
    "        return longest "
   ]
  },
  {
   "cell_type": "code",
   "execution_count": 3,
   "id": "7906054a",
   "metadata": {},
   "outputs": [
    {
     "name": "stdout",
     "output_type": "stream",
     "text": [
      "4\n",
      "7\n"
     ]
    }
   ],
   "source": [
    "s = Solution()\n",
    "\n",
    "nums = [2,20,4,10,3,4,5]\n",
    "print(s.longestConsecutive(nums)) # 4\n",
    "\n",
    "nums = [0,3,2,5,4,6,1,1]\n",
    "print(s.longestConsecutive(nums)) # 7\n"
   ]
  }
 ],
 "metadata": {
  "kernelspec": {
   "display_name": ".venv",
   "language": "python",
   "name": "python3"
  },
  "language_info": {
   "codemirror_mode": {
    "name": "ipython",
    "version": 3
   },
   "file_extension": ".py",
   "mimetype": "text/x-python",
   "name": "python",
   "nbconvert_exporter": "python",
   "pygments_lexer": "ipython3",
   "version": "3.12.10"
  }
 },
 "nbformat": 4,
 "nbformat_minor": 5
}
