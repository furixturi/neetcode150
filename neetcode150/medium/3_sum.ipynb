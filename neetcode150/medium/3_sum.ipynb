{
 "cells": [
  {
   "cell_type": "markdown",
   "id": "b335e904",
   "metadata": {},
   "source": [
    "# 3 Sum"
   ]
  },
  {
   "cell_type": "markdown",
   "id": "d0ed713c",
   "metadata": {},
   "source": [
    "Given an integer array nums, return all the triplets [nums[i], nums[j], nums[k]] where nums[i] + nums[j] + nums[k] == 0, and the indices i, j and k are all distinct.\n",
    "\n",
    "The output should not contain any duplicate triplets. You may return the output and the triplets in any order.\n",
    "\n",
    "Example 1:\n",
    "```\n",
    "Input: nums = [-1,0,1,2,-1,-4]\n",
    "Output: [[-1,-1,2],[-1,0,1]]\n",
    "```\n",
    "Explanation:\n",
    "nums[0] + nums[1] + nums[2] = (-1) + 0 + 1 = 0.\n",
    "nums[1] + nums[2] + nums[4] = 0 + 1 + (-1) = 0.\n",
    "nums[0] + nums[3] + nums[4] = (-1) + 2 + (-1) = 0.\n",
    "The distinct triplets are [-1,0,1] and [-1,-1,2].\n",
    "\n",
    "Example 2:\n",
    "```\n",
    "Input: nums = [0,1,1]\n",
    "Output: []\n",
    "```\n",
    "Explanation: The only possible triplet does not sum up to 0.\n",
    "\n",
    "Example 3:\n",
    "```\n",
    "Input: nums = [0,0,0]\n",
    "Output: [[0,0,0]]\n",
    "```\n",
    "Explanation: The only possible triplet sums up to 0.\n",
    "\n",
    "**Constraints:**\n",
    "- 3 <= nums.length <= 1000\n",
    "- -10^5 <= nums[i] <= 10^5\n",
    "\n",
    "You should aim for a solution with O(n^2) time and O(1) space, where n is the size of the input array.\n"
   ]
  },
  {
   "cell_type": "code",
   "execution_count": 7,
   "id": "0e66c6e2",
   "metadata": {},
   "outputs": [],
   "source": [
    "from typing import List\n",
    "\n",
    "class Solution:\n",
    "    def threeSum(self, nums: List[int]) -> List[List[int]]:\n",
    "        nums.sort()\n",
    "        res = []\n",
    "        for i in range(len(nums)):\n",
    "            if i > 0 and nums[i-1] == nums[i]:\n",
    "                continue\n",
    "            target = 0 - nums[i]\n",
    "            left, right = i+1, len(nums)-1\n",
    "            while left < right:\n",
    "                partial = nums[left] + nums[right]\n",
    "                if partial == target:\n",
    "                    res.append([nums[i], nums[left], nums[right]])\n",
    "                    while left < right and nums[left] == nums[left+1]:\n",
    "                        left += 1\n",
    "                    while left < right and nums[right] == nums[right-1]:\n",
    "                        right -= 1\n",
    "                if partial < target:\n",
    "                    left += 1\n",
    "                else:\n",
    "                    right -= 1\n",
    "        return res\n",
    "                \n"
   ]
  },
  {
   "cell_type": "code",
   "execution_count": 8,
   "id": "09929a2b",
   "metadata": {},
   "outputs": [
    {
     "name": "stdout",
     "output_type": "stream",
     "text": [
      "[[-1, -1, 2], [-1, 0, 1]]\n",
      "[]\n",
      "[[0, 0, 0]]\n"
     ]
    }
   ],
   "source": [
    "s = Solution()\n",
    "print(s.threeSum(nums = [-1,0,1,2,-1,-4])) # [[-1,-1,2],[-1,0,1]]\n",
    "print(s.threeSum([0,1,1])) # []\n",
    "print(s.threeSum([0,0,0])) # [0,0,0]"
   ]
  }
 ],
 "metadata": {
  "kernelspec": {
   "display_name": ".venv",
   "language": "python",
   "name": "python3"
  },
  "language_info": {
   "codemirror_mode": {
    "name": "ipython",
    "version": 3
   },
   "file_extension": ".py",
   "mimetype": "text/x-python",
   "name": "python",
   "nbconvert_exporter": "python",
   "pygments_lexer": "ipython3",
   "version": "3.12.10"
  }
 },
 "nbformat": 4,
 "nbformat_minor": 5
}
