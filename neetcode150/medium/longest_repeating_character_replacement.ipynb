{
 "cells": [
  {
   "cell_type": "markdown",
   "id": "e2be27a8",
   "metadata": {},
   "source": [
    "# Longest Repeating Character Replacement"
   ]
  },
  {
   "cell_type": "markdown",
   "id": "8a0f7b45",
   "metadata": {},
   "source": [
    "https://neetcode.io/problems/longest-repeating-substring-with-replacement?list=neetcode150"
   ]
  },
  {
   "cell_type": "markdown",
   "id": "ad545f19",
   "metadata": {},
   "source": [
    "You are given a string s consisting of only uppercase english characters and an integer k. You can choose up to k characters of the string and replace them with any other uppercase English character.\n",
    "\n",
    "After performing at most k replacements, return the length of the longest substring which contains only one distinct character.\n",
    "\n",
    "**Example 1:**\n",
    "\n",
    "Input: s = \"XYYX\", k = 2\n",
    "\n",
    "Output: 4\n",
    "\n",
    "Explanation: Either replace the 'X's with 'Y's, or replace the 'Y's with 'X's.\n",
    "\n",
    "**Example 2:**\n",
    "\n",
    "Input: s = \"AAABABB\", k = 1\n",
    "\n",
    "Output: 5\n",
    "\n",
    "**Constraints:**\n",
    "\n",
    "1 <= s.length <= 1000\n",
    "0 <= k <= s.length\n",
    "\n",
    "**Recommended Time & Space Complexity**\n",
    "\n",
    "You should aim for a solution with O(n) time and O(m) space, where n is the length of the given string and m is the number of unique characters in the string.\n"
   ]
  },
  {
   "cell_type": "code",
   "execution_count": 4,
   "id": "49ad313e",
   "metadata": {},
   "outputs": [],
   "source": [
    "class Solution:\n",
    "    def characterReplacement(self, s: str, k: int) -> int:\n",
    "        if k >= len(s):\n",
    "            return len(s)\n",
    "        res = 0\n",
    "        left = 0\n",
    "        count = {}\n",
    "        max_count = 0\n",
    "\n",
    "        for right, ch in enumerate(s):\n",
    "            count[ch] = count.get(ch, 0) + 1\n",
    "            max_count = max(max_count, count[ch])\n",
    "\n",
    "            # keep shrinking while we need more than k replacements\n",
    "            while right - left + 1 - max_count > k:\n",
    "                count[s[left]] -= 1\n",
    "                if count[s[left]] == 0:\n",
    "                    del count[s[left]]\n",
    "                left += 1\n",
    "            \n",
    "            res = max(res, right - left + 1)\n",
    "\n",
    "        return res\n",
    "        "
   ]
  },
  {
   "cell_type": "code",
   "execution_count": 5,
   "id": "82ae367e",
   "metadata": {},
   "outputs": [
    {
     "name": "stdout",
     "output_type": "stream",
     "text": [
      "4\n",
      "5\n"
     ]
    }
   ],
   "source": [
    "s = Solution()\n",
    "print(s.characterReplacement(\"XYYX\", 2)) # 4\n",
    "print(s.characterReplacement(\"AAABABB\", 1)) # 5"
   ]
  }
 ],
 "metadata": {
  "kernelspec": {
   "display_name": ".venv",
   "language": "python",
   "name": "python3"
  },
  "language_info": {
   "codemirror_mode": {
    "name": "ipython",
    "version": 3
   },
   "file_extension": ".py",
   "mimetype": "text/x-python",
   "name": "python",
   "nbconvert_exporter": "python",
   "pygments_lexer": "ipython3",
   "version": "3.12.10"
  }
 },
 "nbformat": 4,
 "nbformat_minor": 5
}
