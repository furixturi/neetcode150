{
 "cells": [
  {
   "cell_type": "markdown",
   "id": "a4b45b5d",
   "metadata": {},
   "source": [
    "# Longest Substring Without Repeating Characters"
   ]
  },
  {
   "cell_type": "markdown",
   "id": "304ffe09",
   "metadata": {},
   "source": [
    "https://neetcode.io/problems/longest-substring-without-duplicates?list=neetcode150"
   ]
  },
  {
   "cell_type": "markdown",
   "id": "ea6c047f",
   "metadata": {},
   "source": [
    "Given a string s, find the length of the longest substring without duplicate characters.\n",
    "\n",
    "A substring is a contiguous sequence of characters within a string.\n",
    "\n",
    "**Example 1:**\n",
    "\n",
    "Input: s = \"zxyzxyz\"\n",
    "\n",
    "Output: 3\n",
    "\n",
    "Explanation: The string \"xyz\" is the longest without duplicate characters.\n",
    "\n",
    "**Example 2:**\n",
    "\n",
    "Input: s = \"xxxx\"\n",
    "\n",
    "Output: 1\n",
    "\n",
    "**Constraints:**\n",
    "0 <= s.length <= 1000\n",
    "s may consist of printable ASCII characters.\n",
    "\n",
    "**Recommended Time & Space Complexity**\n",
    "You should aim for a solution with O(n) time and O(m) space, where n is the length of the string and m is the number of unique characters in the string.\n"
   ]
  },
  {
   "cell_type": "code",
   "execution_count": 13,
   "id": "2d6ef2cb",
   "metadata": {},
   "outputs": [],
   "source": [
    "class Solution:\n",
    "    def lengthOfLongestSubstring(self, s: str) -> int:\n",
    "        if len(s) == 0:\n",
    "            return 0\n",
    "        \n",
    "        max_len, curr_len = 1, 1\n",
    "        left, right = 0, 1\n",
    "        chrs = {s[left]}\n",
    "\n",
    "        while right < len(s):\n",
    "            if s[right] not in chrs:\n",
    "                curr_len += 1\n",
    "                max_len = max(max_len, curr_len)\n",
    "                chrs.add(s[right])\n",
    "                right += 1\n",
    "            else:\n",
    "                chrs.remove(s[right])\n",
    "                left += 1\n",
    "                curr_len -= 1\n",
    "\n",
    "        return max_len"
   ]
  },
  {
   "cell_type": "code",
   "execution_count": 14,
   "id": "72b5578c",
   "metadata": {},
   "outputs": [
    {
     "name": "stdout",
     "output_type": "stream",
     "text": [
      "3\n",
      "1\n",
      "3\n"
     ]
    }
   ],
   "source": [
    "s = Solution()\n",
    "print(s.lengthOfLongestSubstring(\"zxyzxyz\")) # 3\n",
    "print(s.lengthOfLongestSubstring(\"xxxx\")) # 1\n",
    "print(s.lengthOfLongestSubstring(\"dvdf\")) # 3"
   ]
  }
 ],
 "metadata": {
  "kernelspec": {
   "display_name": ".venv",
   "language": "python",
   "name": "python3"
  },
  "language_info": {
   "codemirror_mode": {
    "name": "ipython",
    "version": 3
   },
   "file_extension": ".py",
   "mimetype": "text/x-python",
   "name": "python",
   "nbconvert_exporter": "python",
   "pygments_lexer": "ipython3",
   "version": "3.12.10"
  }
 },
 "nbformat": 4,
 "nbformat_minor": 5
}
