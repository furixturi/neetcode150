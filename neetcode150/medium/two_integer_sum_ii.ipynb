{
 "cells": [
  {
   "cell_type": "markdown",
   "id": "d6ae68b7",
   "metadata": {},
   "source": [
    "# Two Integer Sum II"
   ]
  },
  {
   "cell_type": "markdown",
   "id": "d119020c",
   "metadata": {},
   "source": [
    "https://neetcode.io/problems/two-integer-sum-ii?list=neetcode150"
   ]
  },
  {
   "cell_type": "markdown",
   "id": "bf01b0b5",
   "metadata": {},
   "source": [
    "Given an array of integers numbers that is sorted in non-decreasing order.\n",
    "\n",
    "Return the indices (1-indexed) of two numbers, [index1, index2], such that they add up to a given target number target and index1 < index2. Note that index1 and index2 cannot be equal, therefore you may not use the same element twice.\n",
    "\n",
    "There will always be exactly one valid solution.\n",
    "\n",
    "Your solution must use O(1) additional space.\n",
    "\n",
    "Example 1:\n",
    "```\n",
    "Input: numbers = [1,2,3,4], target = 3\n",
    "Output: [1,2]\n",
    "```\n",
    "Explanation:\n",
    "The sum of 1 and 2 is 3. Since we are assuming a 1-indexed array, index1 = 1, index2 = 2. We return [1, 2].\n",
    "\n",
    "**Constraints:**\n",
    "- 2 <= numbers.length <= 1000\n",
    "- -1000 <= numbers[i] <= 1000\n",
    "- -1000 <= target <= 1000\n",
    "\n",
    "You should aim for a solution with O(n) time and O(1) space, where n is the size of the input array."
   ]
  },
  {
   "cell_type": "code",
   "execution_count": 2,
   "id": "bf227982",
   "metadata": {},
   "outputs": [],
   "source": [
    "from typing import List\n",
    "\n",
    "class Solution:\n",
    "    def twoSum(self, numbers: List[int], target: int) -> List[int]:\n",
    "        l = 0\n",
    "        r = len(numbers)-1\n",
    "        while l < r:\n",
    "            m = numbers[l]\n",
    "            n = numbers[r]\n",
    "            if m + n == target:\n",
    "                return [l+1, r+1]\n",
    "            if m + n < target:\n",
    "                l += 1\n",
    "            else:\n",
    "                r -= 1\n",
    "        return []\n",
    "            "
   ]
  },
  {
   "cell_type": "code",
   "execution_count": null,
   "id": "60e26359",
   "metadata": {},
   "outputs": [
    {
     "name": "stdout",
     "output_type": "stream",
     "text": [
      "[1, 2]\n"
     ]
    }
   ],
   "source": [
    "s = Solution()\n",
    "print(s.twoSum([1,2,3,4], 3)) # [1, 2]"
   ]
  }
 ],
 "metadata": {
  "kernelspec": {
   "display_name": ".venv",
   "language": "python",
   "name": "python3"
  },
  "language_info": {
   "codemirror_mode": {
    "name": "ipython",
    "version": 3
   },
   "file_extension": ".py",
   "mimetype": "text/x-python",
   "name": "python",
   "nbconvert_exporter": "python",
   "pygments_lexer": "ipython3",
   "version": "3.12.10"
  }
 },
 "nbformat": 4,
 "nbformat_minor": 5
}
