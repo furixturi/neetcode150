{
 "cells": [
  {
   "cell_type": "markdown",
   "id": "808b6a07",
   "metadata": {},
   "source": [
    "# Group Anagrams\n",
    "\n",
    "https://neetcode.io/problems/anagram-groups?list=neetcode150\n",
    "\n",
    "Given an array of strings strs, group all anagrams together into sublists. You may return the output in any order.\n",
    "\n",
    "An anagram is a string that contains the exact same characters as another string, but the order of the characters can be different.\n",
    "\n",
    "Example 1:\n",
    "\n",
    "Input: strs = [\"act\",\"pots\",\"tops\",\"cat\",\"stop\",\"hat\"]\n",
    "\n",
    "Output: [[\"hat\"],[\"act\", \"cat\"],[\"stop\", \"pots\", \"tops\"]]\n",
    "Example 2:\n",
    "\n",
    "Input: strs = [\"x\"]\n",
    "\n",
    "Output: [[\"x\"]]\n",
    "Example 3:\n",
    "\n",
    "Input: strs = [\"\"]\n",
    "\n",
    "Output: [[\"\"]]\n",
    "\n",
    "**Constraints:**\n",
    "\n",
    "1 <= strs.length <= 1000.\n",
    "0 <= strs[i].length <= 100\n",
    "strs[i] is made up of lowercase English letters.\n",
    "\n",
    "You should aim for a solution with O(m * n) time and O(m) space, where m is the number of strings and n is the length of the longest string."
   ]
  },
  {
   "cell_type": "code",
   "execution_count": 22,
   "id": "6e9c31ef",
   "metadata": {},
   "outputs": [],
   "source": [
    "from typing import List\n",
    "\n",
    "class Solution:\n",
    "    def groupAnagrams(self, strs: List[str]) -> List[List[str]]:\n",
    "        h = {} # space: O(m * n), m - number of str, n - max len of a str\n",
    "        for s in strs: # time: O(m * nlogn)\n",
    "            s_key = \"\".join(sorted(s)) # O(nlogn)\n",
    "            s_list = h.setdefault(s_key, [])\n",
    "            s_list.append(s)\n",
    "        \n",
    "        return list(h.values())"
   ]
  },
  {
   "cell_type": "code",
   "execution_count": 21,
   "id": "3a81ee77",
   "metadata": {},
   "outputs": [
    {
     "name": "stdout",
     "output_type": "stream",
     "text": [
      "[['act', 'cat'], ['pots', 'tops', 'stop'], ['hat']]\n",
      "[['']]\n"
     ]
    }
   ],
   "source": [
    "s = Solution()\n",
    "print(s.groupAnagrams(strs = [\"act\",\"pots\",\"tops\",\"cat\",\"stop\",\"hat\"]))\n",
    "print(s.groupAnagrams(strs=[\"\"]))"
   ]
  },
  {
   "cell_type": "markdown",
   "id": "1abfc9da",
   "metadata": {},
   "source": [
    "## Optimization\n",
    "\n",
    "By Claude Sonnet 4. \n",
    "\n",
    "To achieve\n",
    "- time O(m * n)\n",
    "- space O(m)\n",
    "\n",
    "We can't use sorte(str) since it's O(nlogn).\n",
    "\n",
    "Instead, for each string we can build a character frequency counter tuple (as all stings are lowercase, we have 26 alphabets to track the count of each character), and use it as the key to group strings. "
   ]
  },
  {
   "cell_type": "markdown",
   "id": "90e6c0ea",
   "metadata": {},
   "source": [
    "### First optimization\n",
    "Build a list of 26 [0], when encounted a character, get its char code with `ord(char)` and minus the char code of the first character `ord('a')` to get the index where we increment the count."
   ]
  },
  {
   "cell_type": "code",
   "execution_count": 25,
   "id": "de9482e3",
   "metadata": {},
   "outputs": [
    {
     "name": "stdout",
     "output_type": "stream",
     "text": [
      "Optimized: [['act', 'cat'], ['pots', 'tops', 'stop'], ['hat']]\n"
     ]
    }
   ],
   "source": [
    "# Optimized solution: O(m * n) time, O(m * n) space\n",
    "class OptimizedSolution:\n",
    "    def groupAnagrams(self, strs: List[str]) -> List[List[str]]:\n",
    "        h = {}\n",
    "        for s in strs:\n",
    "            # Count frequency of each character (O(n) time)\n",
    "            char_count = [0] * 26  # Only lowercase English letters\n",
    "            for char in s:\n",
    "                char_count[ord(char) - ord('a')] += 1\n",
    "            \n",
    "            # Use tuple of counts as key (hashable)\n",
    "            s_key = tuple(char_count)\n",
    "            h.setdefault(s_key, []).append(s)\n",
    "        \n",
    "        return list(h.values())\n",
    "\n",
    "# Test the optimized solution\n",
    "opt_s = OptimizedSolution()\n",
    "print(\"Optimized:\", opt_s.groupAnagrams([\"act\",\"pots\",\"tops\",\"cat\",\"stop\",\"hat\"]))"
   ]
  },
  {
   "cell_type": "markdown",
   "id": "5c23d61e",
   "metadata": {},
   "source": [
    "### More Pythonic\n",
    "- Use iterator pattern (`for ch in str`) to loop through all lower case alphabets (`string.ascii_lowercase`) and apply `s.count(ch)` to count each of their occurance, then build a key tuple. \n",
    "- Use `collections.defaultdict` to eliminate the need to handle defaults of a dict"
   ]
  },
  {
   "cell_type": "code",
   "execution_count": 34,
   "id": "ad627472",
   "metadata": {},
   "outputs": [
    {
     "name": "stdout",
     "output_type": "stream",
     "text": [
      "abcdefghijklmnopqrstuvwxyzABCDEFGHIJKLMNOPQRSTUVWXYZ\n",
      "abcdefghijklmnopqrstuvwxyz\n",
      "ABCDEFGHIJKLMNOPQRSTUVWXYZ\n"
     ]
    }
   ],
   "source": [
    "# Easily get all alphabets\n",
    "import string\n",
    "print(string.ascii_letters)\n",
    "print(string.ascii_lowercase)\n",
    "print(string.ascii_uppercase)"
   ]
  },
  {
   "cell_type": "code",
   "execution_count": 38,
   "id": "3f64826c",
   "metadata": {},
   "outputs": [
    {
     "data": {
      "text/plain": [
       "5"
      ]
     },
     "execution_count": 38,
     "metadata": {},
     "output_type": "execute_result"
    }
   ],
   "source": [
    "s = \"abracadabra\"\n",
    "s.count('a')"
   ]
  },
  {
   "cell_type": "code",
   "execution_count": 35,
   "id": "c24b72ed",
   "metadata": {},
   "outputs": [
    {
     "data": {
      "text/plain": [
       "(5, 2, 1, 1, 0, 0, 0, 0, 0, 0, 0, 0, 0, 0, 0, 0, 0, 2, 0, 0, 0, 0, 0, 0, 0, 0)"
      ]
     },
     "execution_count": 35,
     "metadata": {},
     "output_type": "execute_result"
    }
   ],
   "source": [
    "# Build the character count tuple for a string\n",
    "import string\n",
    "\n",
    "s = \"abracadabra\"\n",
    "key = tuple(s.count(ch) for ch in string.ascii_lowercase)\n",
    "key"
   ]
  },
  {
   "cell_type": "code",
   "execution_count": 37,
   "id": "06964472",
   "metadata": {},
   "outputs": [
    {
     "name": "stdout",
     "output_type": "stream",
     "text": [
      "[['act', 'cat'], ['pots', 'tops', 'stop'], ['hat']]\n"
     ]
    }
   ],
   "source": [
    "import string\n",
    "from typing import List\n",
    "from collections import defaultdict\n",
    "\n",
    "class Solution:\n",
    "    def groupAnagrams(self, strs: List[str]) -> List[List[str]]:\n",
    "        groups = defaultdict(list)\n",
    "        for s in strs:\n",
    "            key = tuple(s.count(ch) for ch in string.ascii_lowercase)\n",
    "            groups[key].append(s)\n",
    "        return list(groups.values())\n",
    "    \n",
    "s = Solution()\n",
    "print(s.groupAnagrams([\"act\",\"pots\",\"tops\",\"cat\",\"stop\",\"hat\"]))"
   ]
  }
 ],
 "metadata": {
  "kernelspec": {
   "display_name": ".venv",
   "language": "python",
   "name": "python3"
  },
  "language_info": {
   "codemirror_mode": {
    "name": "ipython",
    "version": 3
   },
   "file_extension": ".py",
   "mimetype": "text/x-python",
   "name": "python",
   "nbconvert_exporter": "python",
   "pygments_lexer": "ipython3",
   "version": "3.12.10"
  }
 },
 "nbformat": 4,
 "nbformat_minor": 5
}
