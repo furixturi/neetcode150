{
 "cells": [
  {
   "cell_type": "markdown",
   "id": "81a21970",
   "metadata": {},
   "source": [
    "# Top K Frequent Elements"
   ]
  },
  {
   "cell_type": "markdown",
   "id": "dc68e2c7",
   "metadata": {},
   "source": [
    "https://neetcode.io/problems/top-k-elements-in-list?list=neetcode150\n",
    "\n",
    "Given an integer array nums and an integer k, return the k most frequent elements within the array.\n",
    "\n",
    "The test cases are generated such that the answer is always unique.\n",
    "\n",
    "You may return the output in any order.\n",
    "\n",
    "**Example 1**:\n",
    "\n",
    "```text\n",
    "Input: nums = [1,2,2,3,3,3], k = 2\n",
    "Output: [2,3]\n",
    "```\n",
    "\n",
    "**Example 2:**\n",
    "\n",
    "```text\n",
    "Input: nums = [7,7], k = 1\n",
    "Output: [7]\n",
    "```\n",
    "\n",
    "**Constraints**:\n",
    "\n",
    "- 1 <= nums.length <= 10^4.\n",
    "- -1000 <= nums[i] <= 1000\n",
    "- 1 <= k <= number of distinct elements in nums.\n",
    "\n",
    "You should aim for a solution with O(n) time and O(n) space, where n is the size of the input array.\n",
    "\n",
    "\n"
   ]
  },
  {
   "cell_type": "markdown",
   "id": "90976f6b",
   "metadata": {},
   "source": [
    "## Solution 1. Heap"
   ]
  },
  {
   "cell_type": "code",
   "execution_count": null,
   "id": "d8b87145",
   "metadata": {},
   "outputs": [],
   "source": [
    "from collections import Counter\n",
    "import heapq\n",
    "from typing import List\n",
    "\n",
    "class Solution:\n",
    "    def topKFrequent(self, nums: List[int], k:int) -> List:\n",
    "        c = Counter(nums) # counter {1:1, 2:2, 3:3}\n",
    "        if len(c.keys()) <= k: # if less or equal to k unique numbers \n",
    "            return list(c.keys())\n",
    "        \n",
    "        h = [] # max heap\n",
    "        res = []\n",
    "            \n",
    "        # build max frequency heap\n",
    "        for num, freq in c:\n",
    "            heapq.heappush(h, (-freq, num))\n",
    "            if len(h) >= k: # keep the heap small to save some time \n",
    "                heapq.heappop(h)\n",
    "        \n",
    "        # build the most frequent k res list\n",
    "        for i in range(k):\n",
    "            res.append(heapq.heappop(h)[1])\n",
    "        \n",
    "        return res"
   ]
  },
  {
   "cell_type": "markdown",
   "id": "a65678d8",
   "metadata": {},
   "source": [
    "- Time complexity: O(n log n) from `heapq.push` to build the heap\n",
    "- Space complexity: O(n) from counter (O(n)), heap (O(n)), res (O(n))"
   ]
  },
  {
   "cell_type": "code",
   "execution_count": 5,
   "id": "153c0065",
   "metadata": {},
   "outputs": [
    {
     "name": "stdout",
     "output_type": "stream",
     "text": [
      "[3, 2]\n",
      "[7]\n"
     ]
    }
   ],
   "source": [
    "s = Solution()\n",
    "print(s.topKFrequent(nums=[1,2,2,3,3,3], k = 2))\n",
    "print(s.topKFrequent(nums=[7,7], k=1))"
   ]
  },
  {
   "cell_type": "markdown",
   "id": "221cbceb",
   "metadata": {},
   "source": [
    "## Solution 2. Bucket Sort "
   ]
  },
  {
   "cell_type": "code",
   "execution_count": 9,
   "id": "cf2c17e9",
   "metadata": {},
   "outputs": [],
   "source": [
    "from typing import List\n",
    "from collections import Counter\n",
    "\n",
    "class Solution:\n",
    "    def topKFrequent(self, nums: List[int], k: int) -> List[int]:\n",
    "        c = Counter(nums) # { num: freq }\n",
    "        if len(c.keys()) <= k:\n",
    "            return list(c.values())\n",
    "        max_freq = len(nums)\n",
    "\n",
    "        # Use List idx to represent the frequency and\n",
    "        # append numbers of the same frequency to the same position\n",
    "        # Since List is 0 index, we need one more pos for max_freq\n",
    "        buckets = [[] for _ in range(max_freq + 1)]\n",
    "\n",
    "        for num, freq in c.items():\n",
    "            buckets[freq].append(num)\n",
    "\n",
    "        res = []\n",
    "        for freq in range(len(buckets)-1, 0, -1):\n",
    "            if buckets[freq]:\n",
    "                for i in range(len(buckets[freq])):\n",
    "                    res.append(buckets[freq][i])\n",
    "                    if len(res) == k:\n",
    "                        return res\n"
   ]
  },
  {
   "cell_type": "markdown",
   "id": "d40afcc1",
   "metadata": {},
   "source": [
    "- Time complexity: O(n)\n",
    "- Space complexity: O(n)"
   ]
  },
  {
   "cell_type": "code",
   "execution_count": 10,
   "id": "f4d81211",
   "metadata": {},
   "outputs": [
    {
     "name": "stdout",
     "output_type": "stream",
     "text": [
      "[3, 2]\n",
      "[2]\n"
     ]
    }
   ],
   "source": [
    "s = Solution()\n",
    "print(s.topKFrequent(nums=[1,2,2,3,3,3], k = 2))\n",
    "print(s.topKFrequent(nums=[7,7], k=1))"
   ]
  }
 ],
 "metadata": {
  "kernelspec": {
   "display_name": ".venv",
   "language": "python",
   "name": "python3"
  },
  "language_info": {
   "codemirror_mode": {
    "name": "ipython",
    "version": 3
   },
   "file_extension": ".py",
   "mimetype": "text/x-python",
   "name": "python",
   "nbconvert_exporter": "python",
   "pygments_lexer": "ipython3",
   "version": "3.12.10"
  }
 },
 "nbformat": 4,
 "nbformat_minor": 5
}
