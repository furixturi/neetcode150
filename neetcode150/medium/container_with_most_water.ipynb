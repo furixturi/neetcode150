{
 "cells": [
  {
   "cell_type": "markdown",
   "id": "f20daaf8",
   "metadata": {},
   "source": [
    "# Container with Most Water"
   ]
  },
  {
   "cell_type": "markdown",
   "id": "d8214723",
   "metadata": {},
   "source": [
    "https://neetcode.io/problems/max-water-container?list=neetcode150"
   ]
  },
  {
   "cell_type": "markdown",
   "id": "e81b1bef",
   "metadata": {},
   "source": [
    "You are given an integer array heights where heights[i] represents the height of the i-th bar.\n",
    "You may choose any two bars to form a container. Return the maximum amount of water a container can store.\n",
    "\n",
    "Example 1:\n",
    "```\n",
    "Input: height = [1,7,2,5,4,7,3,6]\n",
    "Output: 36\n",
    "```\n",
    "\n",
    "Example 2:\n",
    "```\n",
    "Input: height = [2,2,2]\n",
    "Output: 4\n",
    "```\n",
    "\n",
    "**Constraints:**\n",
    "- 2 <= height.length <= 1000\n",
    "- 0 <= height[i] <= 1000\n",
    "\n",
    "You should aim for a solution with O(n) time and O(1) space, where n is the size of the input array."
   ]
  },
  {
   "cell_type": "code",
   "execution_count": 1,
   "id": "a635c047",
   "metadata": {},
   "outputs": [],
   "source": [
    "from typing import List\n",
    "class Solution:\n",
    "    def maxArea(self, heights: List[int]) -> int:\n",
    "        max_area = 0\n",
    "        left, right = 0, len(heights) - 1\n",
    "        while left < right:\n",
    "            left_h = heights[left]\n",
    "            right_h = heights[right]\n",
    "            area = (right - left) * min(left_h, right_h)\n",
    "            max_area = max(max_area, area)\n",
    "            if left_h < right_h:\n",
    "                left += 1\n",
    "            else:\n",
    "                right -= 1\n",
    "        return max_area"
   ]
  },
  {
   "cell_type": "code",
   "execution_count": 2,
   "id": "71ad7008",
   "metadata": {},
   "outputs": [
    {
     "name": "stdout",
     "output_type": "stream",
     "text": [
      "36\n",
      "4\n"
     ]
    }
   ],
   "source": [
    "s = Solution()\n",
    "print(s.maxArea([1,7,2,5,4,7,3,6])) # 36\n",
    "print(s.maxArea([2,2,2])) # 4"
   ]
  }
 ],
 "metadata": {
  "kernelspec": {
   "display_name": ".venv",
   "language": "python",
   "name": "python3"
  },
  "language_info": {
   "codemirror_mode": {
    "name": "ipython",
    "version": 3
   },
   "file_extension": ".py",
   "mimetype": "text/x-python",
   "name": "python",
   "nbconvert_exporter": "python",
   "pygments_lexer": "ipython3",
   "version": "3.12.10"
  }
 },
 "nbformat": 4,
 "nbformat_minor": 5
}
