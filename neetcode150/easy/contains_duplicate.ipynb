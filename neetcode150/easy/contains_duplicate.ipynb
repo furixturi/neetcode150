{
 "cells": [
  {
   "cell_type": "markdown",
   "id": "c5d8cf96",
   "metadata": {},
   "source": [
    "# Contains Duplicate\n",
    "https://neetcode.io/problems/duplicate-integer?list=neetcode150\n",
    "\n",
    "Given an integer array nums, return true if any value appears more than once in the array, otherwise return false.\n",
    "\n",
    "Example 1:\n",
    "\n",
    "Input: nums = [1, 2, 3, 3]\n",
    "\n",
    "Output: true\n",
    "\n",
    "Example 2:\n",
    "\n",
    "Input: nums = [1, 2, 3, 4]\n",
    "\n",
    "Output: false\n",
    "\n",
    "You should aim for a solution with O(n) time and O(n) space, where n is the size of the input array."
   ]
  },
  {
   "cell_type": "code",
   "execution_count": 1,
   "id": "a8255a0a",
   "metadata": {},
   "outputs": [],
   "source": [
    "from typing import List\n",
    "\n",
    "\n",
    "class Solution:\n",
    "    def hasDuplicate(self, nums: List[int]) -> bool:\n",
    "        h = {}\n",
    "        for n in nums:\n",
    "            if n in h:\n",
    "                return True\n",
    "            else:\n",
    "                h[n] = True\n",
    "        return False"
   ]
  },
  {
   "cell_type": "code",
   "execution_count": 2,
   "id": "0c0f5c15",
   "metadata": {},
   "outputs": [
    {
     "name": "stdout",
     "output_type": "stream",
     "text": [
      "True\n",
      "False\n"
     ]
    }
   ],
   "source": [
    "s = Solution()\n",
    "print(s.hasDuplicate([1,2,3,3]))\n",
    "print(s.hasDuplicate([1,2,3,4]))"
   ]
  },
  {
   "cell_type": "code",
   "execution_count": null,
   "id": "7db0f825",
   "metadata": {},
   "outputs": [],
   "source": []
  }
 ],
 "metadata": {
  "kernelspec": {
   "display_name": ".venv",
   "language": "python",
   "name": "python3"
  },
  "language_info": {
   "codemirror_mode": {
    "name": "ipython",
    "version": 3
   },
   "file_extension": ".py",
   "mimetype": "text/x-python",
   "name": "python",
   "nbconvert_exporter": "python",
   "pygments_lexer": "ipython3",
   "version": "3.12.10"
  }
 },
 "nbformat": 4,
 "nbformat_minor": 5
}
