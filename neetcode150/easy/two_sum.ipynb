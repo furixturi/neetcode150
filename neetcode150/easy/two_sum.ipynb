{
 "cells": [
  {
   "cell_type": "markdown",
   "id": "767af1b8",
   "metadata": {},
   "source": [
    "# Two Sum\n",
    "\n",
    "https://neetcode.io/problems/two-integer-sum?list=neetcode150\n",
    "\n",
    "Given an array of integers nums and an integer target, return the indices i and j such that nums[i] + nums[j] == target and i != j.\n",
    "\n",
    "You may assume that every input has exactly one pair of indices i and j that satisfy the condition.\n",
    "\n",
    "Return the answer with the smaller index first.\n",
    "\n",
    "Example 1:\n",
    "\n",
    "Input: \n",
    "nums = [3,4,5,6], target = 7\n",
    "\n",
    "Output: [0,1]\n",
    "Explanation: nums[0] + nums[1] == 7, so we return [0, 1].\n",
    "\n",
    "Example 2:\n",
    "\n",
    "Input: nums = [4,5,6], target = 10\n",
    "\n",
    "Output: [0,2]\n",
    "Example 3:\n",
    "\n",
    "Input: nums = [5,5], target = 10\n",
    "\n",
    "Output: [0,1]\n",
    "\n",
    "Constraints:\n",
    "\n",
    "2 <= nums.length <= 1000\n",
    "-10,000,000 <= nums[i] <= 10,000,000\n",
    "-10,000,000 <= target <= 10,000,000\n",
    "\n",
    "You should aim for a solution with O(n) time and O(n) space, where n is the size of the input array."
   ]
  },
  {
   "cell_type": "code",
   "execution_count": 2,
   "id": "95e40477",
   "metadata": {},
   "outputs": [],
   "source": [
    "from typing import List\n",
    "class Solution:\n",
    "    def twoSum(self, nums: List[int], target: int) -> List[int]:\n",
    "        h = {}\n",
    "        for i, n in enumerate(nums):\n",
    "            if n in h:\n",
    "                return [h[n], i]\n",
    "            else:\n",
    "                h[target-n] = i\n",
    "        return []"
   ]
  },
  {
   "cell_type": "code",
   "execution_count": 3,
   "id": "a8e4f370",
   "metadata": {},
   "outputs": [
    {
     "name": "stdout",
     "output_type": "stream",
     "text": [
      "[0, 1]\n",
      "[0, 2]\n"
     ]
    }
   ],
   "source": [
    "s = Solution()\n",
    "print(s.twoSum(nums=[3,4,5,6], target=7))\n",
    "print(s.twoSum(nums=[4,5,6], target=10))"
   ]
  },
  {
   "cell_type": "code",
   "execution_count": null,
   "id": "b5a61e9b",
   "metadata": {},
   "outputs": [],
   "source": []
  }
 ],
 "metadata": {
  "kernelspec": {
   "display_name": ".venv",
   "language": "python",
   "name": "python3"
  },
  "language_info": {
   "codemirror_mode": {
    "name": "ipython",
    "version": 3
   },
   "file_extension": ".py",
   "mimetype": "text/x-python",
   "name": "python",
   "nbconvert_exporter": "python",
   "pygments_lexer": "ipython3",
   "version": "3.12.10"
  }
 },
 "nbformat": 4,
 "nbformat_minor": 5
}
