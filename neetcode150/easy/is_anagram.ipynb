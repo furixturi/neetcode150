{
 "cells": [
  {
   "cell_type": "markdown",
   "id": "e90a3e5b",
   "metadata": {},
   "source": [
    "# Valid Anagram\n",
    "Given two strings s and t, return true if the two strings are anagrams of each other, otherwise return false.\n",
    "\n",
    "An anagram is a string that contains the exact same characters as another string, but the order of the characters can be different.\n",
    "\n",
    "Example 1:\n",
    "\n",
    "Input: s = \"racecar\", t = \"carrace\"\n",
    "\n",
    "Output: true\n",
    "Example 2:\n",
    "\n",
    "Input: s = \"jar\", t = \"jam\"\n",
    "\n",
    "Output: false\n",
    "Constraints:\n",
    "\n",
    "s and t consist of lowercase English letters.\n",
    "\n",
    "You should aim for a solution with O(n + m) time and O(1) space, where n is the length of the string s and m is the length of the string t.\n"
   ]
  },
  {
   "cell_type": "code",
   "execution_count": null,
   "id": "79b4a5ab",
   "metadata": {},
   "outputs": [],
   "source": [
    "class Solution:\n",
    "    def isAnagram(self, s: str, t: str) -> bool:\n",
    "        s_list = s.split()\n",
    "        t_list = t.split()\n",
    "        print(f's_list: {s_list}\\nt_list_reversed: {t_list[::-1]}\\ns_list==t_list[::-1]: {s_list == t_list[::-1]}')\n",
    "        return s_list == t_list[::-1]"
   ]
  }
 ],
 "metadata": {
  "language_info": {
   "name": "python"
  }
 },
 "nbformat": 4,
 "nbformat_minor": 5
}
