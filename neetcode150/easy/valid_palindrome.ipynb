{
 "cells": [
  {
   "cell_type": "markdown",
   "id": "397a4518",
   "metadata": {},
   "source": [
    "# Valid Palindrome"
   ]
  },
  {
   "cell_type": "markdown",
   "id": "32b91deb",
   "metadata": {},
   "source": [
    "https://neetcode.io/problems/is-palindrome?list=neetcode150"
   ]
  },
  {
   "cell_type": "markdown",
   "id": "c5c90953",
   "metadata": {},
   "source": [
    "Given a string s, return true if it is a palindrome, otherwise return false.\n",
    "\n",
    "A palindrome is a string that reads the same forward and backward. It is also case-insensitive and ignores all non-alphanumeric characters.\n",
    "\n",
    "Note: Alphanumeric characters consist of letters (A-Z, a-z) and numbers (0-9).\n",
    "\n",
    "Example 1:\n",
    "```\n",
    "Input: s = \"Was it a car or a cat I saw?\"\n",
    "Output: true\n",
    "```\n",
    "\n",
    "Explanation: After considering only alphanumerical characters we have \"wasitacaroracatisaw\", which is a palindrome.\n",
    "\n",
    "Example 2:\n",
    "```\n",
    "Input: s = \"tab a cat\"\n",
    "Output: false\n",
    "```\n",
    "\n",
    "Explanation: \"tabacat\" is not a palindrome.\n",
    "\n",
    "**Constraints**:\n",
    "- 1 <= s.length <= 1000\n",
    "- s is made up of only printable ASCII characters.\n",
    "\n",
    "You should aim for a solution with O(n) time and O(1) space, where n is the length of the input string."
   ]
  },
  {
   "cell_type": "code",
   "execution_count": 9,
   "id": "27e6dafb",
   "metadata": {},
   "outputs": [
    {
     "name": "stdout",
     "output_type": "stream",
     "text": [
      "ab12\n"
     ]
    }
   ],
   "source": [
    "s = \"a b12\\n!\"\n",
    "s_clean = ''.join([ch.lower() for ch in s if ch.isalnum()])\n",
    "print(s_clean)"
   ]
  },
  {
   "cell_type": "code",
   "execution_count": 10,
   "id": "56eff985",
   "metadata": {},
   "outputs": [],
   "source": [
    "class Solution:\n",
    "    def isPalindrome(self, s: str) -> bool:\n",
    "        s = ''.join(ch.lower() for ch in s if ch.isalnum())\n",
    "        return s == s[::-1]"
   ]
  },
  {
   "cell_type": "code",
   "execution_count": 11,
   "id": "543c614b",
   "metadata": {},
   "outputs": [
    {
     "name": "stdout",
     "output_type": "stream",
     "text": [
      "True\n",
      "False\n",
      "False\n"
     ]
    }
   ],
   "source": [
    "s = Solution()\n",
    "\n",
    "input = \"Was it a car or a cat I saw?\"\n",
    "print(s.isPalindrome(input)) # True\n",
    "\n",
    "input = \"tab a cat\"\n",
    "print(s.isPalindrome(input)) # False\n",
    "\n",
    "input = \"Was it a 14 c3ar #or a cat I saw?\"\n",
    "print(s.isPalindrome(input)) # False"
   ]
  },
  {
   "cell_type": "code",
   "execution_count": null,
   "id": "2c0158c5",
   "metadata": {},
   "outputs": [],
   "source": []
  }
 ],
 "metadata": {
  "kernelspec": {
   "display_name": ".venv",
   "language": "python",
   "name": "python3"
  },
  "language_info": {
   "codemirror_mode": {
    "name": "ipython",
    "version": 3
   },
   "file_extension": ".py",
   "mimetype": "text/x-python",
   "name": "python",
   "nbconvert_exporter": "python",
   "pygments_lexer": "ipython3",
   "version": "3.12.10"
  }
 },
 "nbformat": 4,
 "nbformat_minor": 5
}
