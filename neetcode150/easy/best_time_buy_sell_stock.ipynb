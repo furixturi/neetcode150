{
 "cells": [
  {
   "cell_type": "markdown",
   "id": "b7676e0a",
   "metadata": {},
   "source": [
    "# Best Time to Buy and Sell Stock"
   ]
  },
  {
   "cell_type": "markdown",
   "id": "899fb024",
   "metadata": {},
   "source": [
    "You are given an integer array prices where prices[i] is the price of NeetCoin on the ith day.\n",
    "\n",
    "You may choose a single day to buy one NeetCoin and choose a different day in the future to sell it.\n",
    "\n",
    "Return the maximum profit you can achieve. You may choose to not make any transactions, in which case the profit would be 0.\n",
    "\n",
    "**Example 1:**\n",
    "Input: prices = [10,1,5,6,7,1]\n",
    "Output: 6\n",
    "\n",
    "Explanation: Buy prices[1] and sell prices[4], profit = 7 - 1 = 6.\n",
    "\n",
    "**Example 2:**\n",
    "Input: prices = [10,8,7,5,2]\n",
    "Output: 0\n",
    "\n",
    "Explanation: No profitable transactions can be made, thus the max profit is 0.\n",
    "\n",
    "**Constraints:**\n",
    "- 1 <= prices.length <= 100\n",
    "- 0 <= prices[i] <= 100"
   ]
  },
  {
   "cell_type": "code",
   "execution_count": 5,
   "id": "c6c8b930",
   "metadata": {},
   "outputs": [],
   "source": [
    "from typing import List\n",
    "\n",
    "class Solution:\n",
    "    def maxProfit(self, prices: List[int]) -> int:\n",
    "        max_profit = 0\n",
    "        curr_min = prices[0]\n",
    "        for price in prices[1:]:\n",
    "            if price < curr_min:\n",
    "                curr_min = price\n",
    "            else:\n",
    "                max_profit = max(price - curr_min, max_profit)\n",
    "        return max_profit"
   ]
  },
  {
   "cell_type": "code",
   "execution_count": 6,
   "id": "4b934091",
   "metadata": {},
   "outputs": [
    {
     "name": "stdout",
     "output_type": "stream",
     "text": [
      "6\n",
      "0\n"
     ]
    }
   ],
   "source": [
    "s = Solution()\n",
    "\n",
    "prices = [10,1,5,6,7,1]\n",
    "print(s.maxProfit(prices)) # 6\n",
    "\n",
    "prices = [10,8,7,5,2]\n",
    "print(s.maxProfit(prices)) # 0\n"
   ]
  }
 ],
 "metadata": {
  "kernelspec": {
   "display_name": "Python 3",
   "language": "python",
   "name": "python3"
  },
  "language_info": {
   "codemirror_mode": {
    "name": "ipython",
    "version": 3
   },
   "file_extension": ".py",
   "mimetype": "text/x-python",
   "name": "python",
   "nbconvert_exporter": "python",
   "pygments_lexer": "ipython3",
   "version": "3.12.10"
  }
 },
 "nbformat": 4,
 "nbformat_minor": 5
}
